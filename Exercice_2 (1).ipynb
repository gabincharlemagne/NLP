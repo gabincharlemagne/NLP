{
  "nbformat": 4,
  "nbformat_minor": 0,
  "metadata": {
    "colab": {
      "provenance": []
    },
    "kernelspec": {
      "name": "python3",
      "display_name": "Python 3"
    }
  },
  "cells": [
    {
      "cell_type": "markdown",
      "metadata": {
        "id": "bdYLFhM6LvGg"
      },
      "source": [
        "Objectifs :\n",
        "- Implémenter le bag of word ;\n",
        "- Implémenter le TF-IDF."
      ]
    },
    {
      "cell_type": "markdown",
      "metadata": {
        "id": "o1gxaxo8M1hq"
      },
      "source": [
        "## Importations des packages"
      ]
    },
    {
      "cell_type": "code",
      "metadata": {
        "id": "AO5tMjlUM06N",
        "colab": {
          "base_uri": "https://localhost:8080/"
        },
        "outputId": "06062925-dc74-4116-bf90-86187dfb6f6f"
      },
      "source": [
        "from nltk.tokenize import word_tokenize\n",
        "from nltk.text import Text\n",
        "from nltk.stem.lancaster import LancasterStemmer\n",
        "from nltk.stem import WordNetLemmatizer\n",
        "import nltk\n",
        "\n",
        "import numpy as np\n",
        "import pandas as pd\n",
        "import matplotlib.pyplot as plt\n",
        "\n",
        "nltk.download('punkt')\n",
        "nltk.download('stopwords')\n",
        "nltk.download('wordnet')\n",
        "nltk.download('averaged_perceptron_tagger')"
      ],
      "execution_count": 9,
      "outputs": [
        {
          "output_type": "stream",
          "name": "stderr",
          "text": [
            "[nltk_data] Downloading package punkt to /root/nltk_data...\n",
            "[nltk_data]   Package punkt is already up-to-date!\n",
            "[nltk_data] Downloading package stopwords to /root/nltk_data...\n",
            "[nltk_data]   Package stopwords is already up-to-date!\n",
            "[nltk_data] Downloading package wordnet to /root/nltk_data...\n",
            "[nltk_data]   Package wordnet is already up-to-date!\n",
            "[nltk_data] Downloading package averaged_perceptron_tagger to\n",
            "[nltk_data]     /root/nltk_data...\n",
            "[nltk_data]   Package averaged_perceptron_tagger is already up-to-\n",
            "[nltk_data]       date!\n"
          ]
        },
        {
          "output_type": "execute_result",
          "data": {
            "text/plain": [
              "True"
            ]
          },
          "metadata": {},
          "execution_count": 9
        }
      ]
    },
    {
      "cell_type": "markdown",
      "metadata": {
        "id": "Oq18nvqWM8Lu"
      },
      "source": [
        "## Importations des données\n",
        "\n",
        "Les données sont issue de [cette base de données](https://cs.nyu.edu/~kcho/DMQA/).\n",
        "\n",
        "Maintenant que nos outils sont chargés, nous allons charger nos données.\n",
        "\n",
        "Cliquez sur le lien ci-dessous :\n",
        "\n",
        "https://drive.google.com/drive/folders/12OmusfAUOcoLOCwEc--nfkKQ5eEozU45?usp=sharing\n",
        "\n",
        "Cliquer droit sur le dossier data et appuyer sur ajouter à mon drive."
      ]
    },
    {
      "cell_type": "code",
      "metadata": {
        "id": "4dAmPai6M7wA",
        "colab": {
          "base_uri": "https://localhost:8080/"
        },
        "outputId": "6e1da8a4-5269-44d4-ea64-070592fc9887"
      },
      "source": [
        "from google.colab import drive\n",
        "drive.mount('/content/gdrive/')"
      ],
      "execution_count": 10,
      "outputs": [
        {
          "output_type": "stream",
          "name": "stdout",
          "text": [
            "Drive already mounted at /content/gdrive/; to attempt to forcibly remount, call drive.mount(\"/content/gdrive/\", force_remount=True).\n"
          ]
        }
      ]
    },
    {
      "cell_type": "markdown",
      "metadata": {
        "id": "lYiTdYvFNF3J"
      },
      "source": [
        "Les données sont maintenant dans votre environnement collab."
      ]
    },
    {
      "cell_type": "code",
      "metadata": {
        "id": "Vmk_Nlc2NJ7p",
        "colab": {
          "base_uri": "https://localhost:8080/"
        },
        "outputId": "b124d0a1-7425-49ec-81f3-f213cfc2439f"
      },
      "source": [
        "import os\n",
        "print(os.listdir('gdrive/MyDrive/Exercice_1/Partie_1')[:10])"
      ],
      "execution_count": 11,
      "outputs": [
        {
          "output_type": "stream",
          "name": "stdout",
          "text": [
            "['0a3ff2f0a147c158845afa44d2a012064896566b.story', '0a3fff5779a8f7cfdde5d284a429ab89fd5e85df.story', '0a0f56ebc5a0a67ed18de79d99b40a42d8058d04.story', '0a3ad75d92c5bc2eccf2763df86afe5ddeffed75.story', '0a3f2400ba4e5cdf4b3638ae6fb60fdfa12a2680.story', '0a3f567efff9f0748b2758c9e8c17dc66beade04.story', '0a05b14962b2e73bbff82086762e0e23d32b359f.story', '0a1ad82d161d90d758240407cb8c8fcebff4a212.story', '0a4ec4d37683347ca62b53982d2c5f4efb86f444.story', '0a4b2d4ea5fb0625e3e747525062f0a85345e4df.story']\n"
          ]
        }
      ]
    },
    {
      "cell_type": "markdown",
      "metadata": {
        "id": "6PC-_PGWtn0D"
      },
      "source": [
        "# Création de la base de données"
      ]
    },
    {
      "cell_type": "code",
      "metadata": {
        "id": "A4Q4GATMtpsz"
      },
      "source": [
        "cmpt = 0\n",
        "dict_data = dict()\n",
        "\n",
        "for file_name in os.listdir('gdrive/MyDrive/Exercice_1/Partie_1'):\n",
        "    f = open('gdrive/MyDrive/Exercice_1/Partie_1/'+file_name, 'r')\n",
        "    lst = \"\"\n",
        "    for line in f:\n",
        "\n",
        "       line.strip()\n",
        "       line = line.replace(\"\\n\" ,'')\n",
        "       line = line.replace(\"//\" , '')\n",
        "       line = line.replace(\"/\" , '')\n",
        "       if len(line) > 0 :\n",
        "        lst += line\n",
        "\n",
        "    dict_data[cmpt] = lst\n",
        "    cmpt += 1\n"
      ],
      "execution_count": 12,
      "outputs": []
    },
    {
      "cell_type": "markdown",
      "metadata": {
        "id": "IoHCpAp5vrLn"
      },
      "source": [
        "# Prétraitements"
      ]
    },
    {
      "cell_type": "markdown",
      "metadata": {
        "id": "pqyhQF-DvX2B"
      },
      "source": [
        "## En minuscule"
      ]
    },
    {
      "cell_type": "code",
      "metadata": {
        "id": "FZHDj0xsvZxy"
      },
      "source": [
        "dict_data_min = dict()\n",
        "for k, v in dict_data.items():\n",
        "  dict_data_min[k] = v.lower()"
      ],
      "execution_count": 13,
      "outputs": []
    },
    {
      "cell_type": "markdown",
      "metadata": {
        "id": "GXLT8VOavcY0"
      },
      "source": [
        "## Tokenization"
      ]
    },
    {
      "cell_type": "code",
      "metadata": {
        "id": "VfBQd71VvgP0"
      },
      "source": [
        "dict_data_token = dict()\n",
        "for k, v in dict_data_min.items():\n",
        "  tokenizer = nltk.RegexpTokenizer(r'\\w+')\n",
        "  tokens = tokenizer.tokenize(v)\n",
        "  dict_data_token[k] = tokens"
      ],
      "execution_count": 14,
      "outputs": []
    },
    {
      "cell_type": "markdown",
      "metadata": {
        "id": "HxbEUZU_wEF2"
      },
      "source": [
        "## Stopwords"
      ]
    },
    {
      "cell_type": "code",
      "metadata": {
        "id": "TJoHkqjkwHGk"
      },
      "source": [
        "dict_data_stop = dict()\n",
        "for k, v in dict_data_token.items():\n",
        "  dict_data_stop[k] = [w for w in v if not w in list(nltk.corpus.stopwords.words())]"
      ],
      "execution_count": 18,
      "outputs": []
    },
    {
      "cell_type": "markdown",
      "metadata": {
        "id": "Tpo8jDw8vh2B"
      },
      "source": [
        "## Stemming"
      ]
    },
    {
      "cell_type": "code",
      "metadata": {
        "id": "fR4hmThDvmrG"
      },
      "source": [
        "dict_data_stem = dict()\n",
        "st = LancasterStemmer()\n",
        "\n",
        "for index, doc in dict_data_stop.items():\n",
        "  dict_data_stem[index] = [st.stem(w) for w in doc ]"
      ],
      "execution_count": 19,
      "outputs": []
    },
    {
      "cell_type": "markdown",
      "source": [
        "# Bag of words"
      ],
      "metadata": {
        "id": "8OarYLlTg9DZ"
      }
    },
    {
      "cell_type": "markdown",
      "source": [
        "## Vecteur de vocabulaire"
      ],
      "metadata": {
        "id": "yN3ywXveg-a6"
      }
    },
    {
      "cell_type": "code",
      "source": [
        "vocab = set()\n",
        "\n",
        "for index, doc in dict_data_stem.items():\n",
        "  for word in doc :\n",
        "    vocab.add(word)\n",
        "\n",
        "print(len(vocab))"
      ],
      "metadata": {
        "id": "LxBsVhlNhAq7",
        "colab": {
          "base_uri": "https://localhost:8080/"
        },
        "outputId": "0a7d10c4-af2c-44e0-c3c3-b82fe101a6e2"
      },
      "execution_count": 20,
      "outputs": [
        {
          "output_type": "stream",
          "name": "stdout",
          "text": [
            "4016\n"
          ]
        }
      ]
    },
    {
      "cell_type": "markdown",
      "source": [
        "## Bag of words"
      ],
      "metadata": {
        "id": "vlSvSVPZhBor"
      }
    },
    {
      "cell_type": "code",
      "source": [
        "vocab = list(vocab)"
      ],
      "metadata": {
        "id": "jIpxfAEyGnAj"
      },
      "execution_count": 40,
      "outputs": []
    },
    {
      "cell_type": "code",
      "source": [
        "data = pd.DataFrame([], columns=vocab)\n",
        "\n",
        "for index, doc in dict_data_stem.items() :\n",
        "  D1 = np.zeros(len(vocab))\n",
        "  for word in doc:\n",
        "      if word in vocab:\n",
        "        D1[vocab.index(word)] += 1\n",
        "      data.loc[index] = D1\n",
        "\n",
        "print(data)\n"
      ],
      "metadata": {
        "id": "K_vW_tfZWdhT",
        "colab": {
          "base_uri": "https://localhost:8080/"
        },
        "outputId": "a497647d-7812-45f7-b84d-ba09a8c65997"
      },
      "execution_count": 38,
      "outputs": [
        {
          "output_type": "stream",
          "name": "stdout",
          "text": [
            "    columb  250  takaham  bibl  weep  2000  karl  assist  660  tan  ...  joan  \\\n",
            "0      0.0  0.0      0.0   0.0   0.0   0.0   0.0     0.0  0.0  0.0  ...   0.0   \n",
            "1      0.0  0.0      0.0   0.0   0.0   0.0   0.0     0.0  0.0  0.0  ...   0.0   \n",
            "2      0.0  0.0      0.0   0.0   0.0   0.0   0.0     0.0  0.0  0.0  ...   0.0   \n",
            "3      0.0  0.0      0.0   0.0   0.0   0.0   0.0     0.0  0.0  0.0  ...   0.0   \n",
            "4      0.0  0.0      0.0   0.0   0.0   0.0   0.0     0.0  0.0  0.0  ...   0.0   \n",
            "5      0.0  0.0      0.0   0.0   0.0   0.0   0.0     0.0  0.0  0.0  ...   0.0   \n",
            "6      0.0  0.0      0.0   0.0   0.0   0.0   0.0     1.0  0.0  0.0  ...   0.0   \n",
            "7      0.0  0.0      0.0   0.0   0.0   0.0   0.0     0.0  0.0  0.0  ...   0.0   \n",
            "8      0.0  0.0      0.0   0.0   0.0   0.0   0.0     1.0  0.0  0.0  ...   0.0   \n",
            "9      0.0  0.0      0.0   0.0   0.0   0.0   0.0     0.0  0.0  0.0  ...   0.0   \n",
            "10     0.0  0.0      0.0   0.0   0.0   0.0   0.0     0.0  0.0  0.0  ...   0.0   \n",
            "11     0.0  0.0      0.0   0.0   0.0   0.0   0.0     2.0  0.0  0.0  ...   0.0   \n",
            "12     0.0  0.0      0.0   0.0   0.0   0.0   0.0     0.0  0.0  2.0  ...   4.0   \n",
            "13     0.0  0.0      0.0   0.0   0.0   0.0   0.0     1.0  0.0  0.0  ...   0.0   \n",
            "14     0.0  0.0      0.0   0.0   0.0   0.0   0.0     0.0  0.0  0.0  ...   0.0   \n",
            "15     0.0  0.0      0.0   0.0   0.0   0.0   0.0     0.0  0.0  0.0  ...   0.0   \n",
            "16     0.0  0.0      0.0   0.0   0.0   0.0   0.0     0.0  0.0  0.0  ...   0.0   \n",
            "17     0.0  0.0      0.0   0.0   0.0   0.0   0.0     0.0  0.0  0.0  ...   0.0   \n",
            "18     0.0  0.0      0.0   0.0   0.0   0.0   0.0     0.0  0.0  0.0  ...   0.0   \n",
            "19     0.0  0.0      0.0   0.0   0.0   0.0   0.0     1.0  0.0  0.0  ...   0.0   \n",
            "20     0.0  0.0      0.0   0.0   0.0   1.0   0.0     0.0  0.0  0.0  ...   0.0   \n",
            "21     0.0  2.0      0.0   0.0   0.0   0.0   0.0     0.0  0.0  0.0  ...   0.0   \n",
            "22     0.0  0.0      0.0   0.0   0.0   0.0   0.0     0.0  0.0  0.0  ...   0.0   \n",
            "23     0.0  0.0      0.0   0.0   0.0   0.0   0.0     0.0  0.0  0.0  ...   0.0   \n",
            "24     0.0  0.0      0.0   0.0   0.0   0.0   0.0     1.0  0.0  0.0  ...   0.0   \n",
            "25     0.0  0.0      0.0   0.0   0.0   0.0   0.0     0.0  0.0  0.0  ...   0.0   \n",
            "26     0.0  0.0      0.0   0.0   0.0   0.0   0.0     1.0  0.0  0.0  ...   0.0   \n",
            "27     1.0  0.0      0.0   0.0   0.0   0.0   0.0     0.0  0.0  0.0  ...   0.0   \n",
            "28     0.0  0.0      0.0   0.0   0.0   0.0   0.0     0.0  0.0  0.0  ...   0.0   \n",
            "29     0.0  0.0      0.0   0.0   0.0   0.0   0.0     1.0  0.0  0.0  ...   0.0   \n",
            "30     0.0  0.0      0.0   0.0   0.0   0.0   0.0     0.0  0.0  0.0  ...   0.0   \n",
            "31     1.0  0.0      0.0   0.0   0.0   0.0   0.0     0.0  0.0  0.0  ...   0.0   \n",
            "32     0.0  0.0      0.0   0.0   0.0   0.0   0.0     0.0  0.0  0.0  ...   0.0   \n",
            "33     0.0  0.0      0.0   0.0   0.0   0.0   0.0     0.0  0.0  0.0  ...   0.0   \n",
            "34     0.0  0.0      0.0   0.0   0.0   0.0   0.0     0.0  0.0  0.0  ...   0.0   \n",
            "35     0.0  0.0      0.0   0.0   0.0   0.0   0.0     0.0  0.0  0.0  ...   0.0   \n",
            "36     0.0  0.0      0.0   0.0   0.0   0.0   0.0     0.0  0.0  0.0  ...   0.0   \n",
            "37     0.0  0.0      0.0   0.0   0.0   0.0   0.0     0.0  0.0  0.0  ...   0.0   \n",
            "38     0.0  0.0      0.0   0.0   0.0   1.0   0.0     0.0  1.0  0.0  ...   0.0   \n",
            "39     0.0  0.0      0.0   0.0   0.0   0.0   0.0     0.0  0.0  0.0  ...   0.0   \n",
            "40     0.0  0.0      0.0   0.0   0.0   0.0   0.0     0.0  0.0  0.0  ...   0.0   \n",
            "41     0.0  0.0      0.0   1.0   0.0   0.0   0.0     0.0  0.0  0.0  ...   0.0   \n",
            "42     0.0  0.0      0.0   0.0   1.0   0.0   0.0     0.0  0.0  0.0  ...   0.0   \n",
            "43     0.0  0.0      0.0   0.0   0.0   0.0   0.0     0.0  0.0  0.0  ...   0.0   \n",
            "44     0.0  0.0      0.0   0.0   0.0   0.0   0.0     0.0  0.0  0.0  ...   0.0   \n",
            "45     0.0  0.0      0.0   0.0   0.0   0.0   0.0     0.0  0.0  0.0  ...   0.0   \n",
            "46     0.0  0.0      0.0   0.0   0.0   1.0   1.0     0.0  0.0  0.0  ...   0.0   \n",
            "47     0.0  0.0      0.0   0.0   0.0   0.0   0.0     0.0  0.0  0.0  ...   0.0   \n",
            "48     0.0  0.0      0.0   0.0   0.0   0.0   0.0     0.0  0.0  0.0  ...   0.0   \n",
            "49     0.0  0.0      3.0   0.0   0.0   0.0   0.0     0.0  0.0  0.0  ...   0.0   \n",
            "\n",
            "    maintain   ic  neat  scrutinized  ademiluy  ban  iraq  bless  thompson  \n",
            "0        0.0  0.0   0.0          0.0       0.0  0.0   0.0    0.0       0.0  \n",
            "1        0.0  0.0   0.0          0.0       0.0  0.0   0.0    0.0       0.0  \n",
            "2        0.0  0.0   0.0          0.0       0.0  0.0   0.0    0.0       0.0  \n",
            "3        0.0  0.0   0.0          0.0       0.0  0.0   0.0    0.0       0.0  \n",
            "4        0.0  1.0   0.0          0.0       0.0  0.0   0.0    1.0       0.0  \n",
            "5        0.0  0.0   0.0          0.0       0.0  0.0   0.0    0.0       0.0  \n",
            "6        0.0  0.0   0.0          0.0       0.0  0.0   0.0    0.0       0.0  \n",
            "7        0.0  0.0   0.0          0.0       0.0  1.0   0.0    0.0       0.0  \n",
            "8        0.0  0.0   0.0          0.0       0.0  0.0   0.0    0.0       0.0  \n",
            "9        0.0  0.0   0.0          0.0       0.0  0.0   0.0    0.0       0.0  \n",
            "10       0.0  0.0   0.0          0.0       0.0  0.0   0.0    0.0       0.0  \n",
            "11       0.0  0.0   0.0          0.0       0.0  0.0   0.0    0.0       0.0  \n",
            "12       0.0  0.0   0.0          0.0       0.0  0.0   0.0    0.0       0.0  \n",
            "13       0.0  0.0   0.0          0.0       0.0  0.0   0.0    0.0       0.0  \n",
            "14       0.0  0.0   0.0          0.0       0.0  0.0   0.0    0.0       0.0  \n",
            "15       0.0  0.0   0.0          0.0       0.0  0.0   0.0    0.0       0.0  \n",
            "16       0.0  1.0   0.0          0.0       0.0  0.0   0.0    0.0       0.0  \n",
            "17       0.0  0.0   0.0          0.0       0.0  0.0   0.0    0.0       0.0  \n",
            "18       0.0  0.0   0.0          1.0       0.0  0.0   0.0    0.0       0.0  \n",
            "19       0.0  0.0   0.0          0.0       0.0  0.0   0.0    0.0       0.0  \n",
            "20       1.0  0.0   0.0          0.0       0.0  0.0   3.0    0.0       0.0  \n",
            "21       0.0  0.0   0.0          0.0       0.0  0.0   0.0    0.0       0.0  \n",
            "22       0.0  0.0   0.0          0.0       0.0  0.0   0.0    0.0       0.0  \n",
            "23       0.0  0.0   0.0          0.0       3.0  0.0   0.0    0.0       0.0  \n",
            "24       0.0  0.0   0.0          0.0       0.0  0.0   0.0    0.0       0.0  \n",
            "25       0.0  0.0   0.0          0.0       0.0  0.0   0.0    0.0       0.0  \n",
            "26       0.0  0.0   0.0          0.0       0.0  0.0   0.0    0.0       0.0  \n",
            "27       0.0  0.0   0.0          0.0       0.0  0.0   0.0    0.0       0.0  \n",
            "28       0.0  0.0   0.0          0.0       0.0  0.0   0.0    0.0       0.0  \n",
            "29       0.0  0.0   0.0          0.0       0.0  0.0   0.0    0.0       0.0  \n",
            "30       0.0  0.0   0.0          0.0       0.0  0.0   0.0    0.0       0.0  \n",
            "31       0.0  0.0   0.0          0.0       0.0  4.0   0.0    0.0       0.0  \n",
            "32       0.0  0.0   0.0          0.0       0.0  0.0   0.0    0.0       0.0  \n",
            "33       0.0  0.0   0.0          0.0       0.0  0.0   0.0    0.0       0.0  \n",
            "34       0.0  0.0   0.0          0.0       0.0  0.0   0.0    0.0       2.0  \n",
            "35       0.0  0.0   0.0          0.0       0.0  0.0   0.0    0.0       0.0  \n",
            "36       0.0  0.0   0.0          0.0       0.0  0.0   0.0    0.0       0.0  \n",
            "37       0.0  0.0   0.0          0.0       0.0  0.0   0.0    0.0       0.0  \n",
            "38       1.0  0.0   0.0          0.0       0.0  0.0   0.0    0.0       0.0  \n",
            "39       0.0  0.0   0.0          0.0       0.0  0.0   0.0    0.0       0.0  \n",
            "40       0.0  0.0   0.0          0.0       0.0  0.0   0.0    0.0       0.0  \n",
            "41       0.0  0.0   0.0          0.0       0.0  0.0   0.0    0.0       0.0  \n",
            "42       0.0  0.0   0.0          0.0       0.0  0.0   0.0    0.0       0.0  \n",
            "43       0.0  0.0   0.0          0.0       0.0  1.0   0.0    0.0       0.0  \n",
            "44       0.0  0.0   0.0          0.0       0.0  0.0   0.0    0.0       0.0  \n",
            "45       0.0  0.0   1.0          0.0       0.0  0.0   0.0    0.0       0.0  \n",
            "46       0.0  0.0   0.0          0.0       0.0  0.0   5.0    0.0       0.0  \n",
            "47       0.0  0.0   0.0          0.0       0.0  0.0   0.0    0.0       0.0  \n",
            "48       0.0  0.0   0.0          0.0       0.0  0.0   0.0    0.0       0.0  \n",
            "49       0.0  0.0   0.0          0.0       0.0  0.0   0.0    0.0       0.0  \n",
            "\n",
            "[50 rows x 4016 columns]\n"
          ]
        }
      ]
    }
  ]
}