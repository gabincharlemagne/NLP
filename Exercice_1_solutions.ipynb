{
  "nbformat": 4,
  "nbformat_minor": 0,
  "metadata": {
    "colab": {
      "provenance": []
    },
    "kernelspec": {
      "name": "python3",
      "display_name": "Python 3"
    }
  },
  "cells": [
    {
      "cell_type": "markdown",
      "metadata": {
        "id": "HSEC4mEySWcZ"
      },
      "source": [
        "# Partie I\n",
        "\n",
        "Objectifs :\n",
        "- Créer un jeu de données ;\n",
        "- Mettre le texte en minuscule ;\n",
        "- Suppression de la ponctuation ;\n",
        "- Séparation en tokens ;\n",
        "- Visualisation du vocabulaire des articles classé par ordre décroissant avec un barplot ;\n",
        "- Suppression des stopwords ;\n",
        "- Visualisation du vocabulaire des articles classé par ordre décroissant avec un barplot après supression des stopwords ;\n",
        "- Création d'une version avec stemming du document ;\n",
        "- Visualisation du vocabulaire des articles classé par ordre décroissant avec un barplot après le stemming ;\n",
        "- Création d'une version avec lemmatization du document ;\n",
        "- Visualisation du vocabulaire des articles classé par ordre décroissant avec un barplot après la lemmatization ;\n"
      ]
    },
    {
      "cell_type": "markdown",
      "metadata": {
        "id": "YmmcT3k5ZrQV"
      },
      "source": [
        "## Importations des packages"
      ]
    },
    {
      "cell_type": "code",
      "metadata": {
        "colab": {
          "base_uri": "https://localhost:8080/"
        },
        "id": "sXPNc6P3ZuEq",
        "outputId": "ba4c5281-f7a4-40c9-8739-43acd867c1a6"
      },
      "source": [
        "from nltk.tokenize import word_tokenize\n",
        "from nltk.text import Text\n",
        "from nltk.stem.lancaster import LancasterStemmer\n",
        "from nltk.stem import WordNetLemmatizer\n",
        "import nltk\n",
        "import os\n",
        "\n",
        "import numpy as np\n",
        "import pandas as pd\n",
        "import matplotlib.pyplot as plt\n",
        "\n",
        "nltk.download('punkt')\n",
        "nltk.download('stopwords')\n",
        "nltk.download('wordnet')\n",
        "nltk.download('averaged_perceptron_tagger')"
      ],
      "execution_count": null,
      "outputs": [
        {
          "output_type": "stream",
          "name": "stderr",
          "text": [
            "[nltk_data] Downloading package punkt to /root/nltk_data...\n",
            "[nltk_data]   Unzipping tokenizers/punkt.zip.\n",
            "[nltk_data] Downloading package stopwords to /root/nltk_data...\n",
            "[nltk_data]   Unzipping corpora/stopwords.zip.\n",
            "[nltk_data] Downloading package wordnet to /root/nltk_data...\n",
            "[nltk_data] Downloading package averaged_perceptron_tagger to\n",
            "[nltk_data]     /root/nltk_data...\n",
            "[nltk_data]   Unzipping taggers/averaged_perceptron_tagger.zip.\n"
          ]
        },
        {
          "output_type": "execute_result",
          "data": {
            "text/plain": [
              "True"
            ]
          },
          "metadata": {},
          "execution_count": 1
        }
      ]
    },
    {
      "cell_type": "markdown",
      "metadata": {
        "id": "CZJ8Idw4Zx8T"
      },
      "source": [
        "## Importations des données\n",
        "\n",
        "Les données sont issue de [cette base de données](https://cs.nyu.edu/~kcho/DMQA/).\n",
        "\n",
        "Maintenant que nos outils sont chargés, nous allons charger nos données.\n",
        "\n",
        "Cliquez sur le lien ci-dessous :\n",
        "\n",
        "https://drive.google.com/drive/folders/12OmusfAUOcoLOCwEc--nfkKQ5eEozU45?usp=sharing\n",
        "\n",
        "Cliquer droit sur le dossier data et appuyer sur ajouter à mon drive."
      ]
    },
    {
      "cell_type": "code",
      "metadata": {
        "id": "fzZiAVnSRB-u",
        "colab": {
          "base_uri": "https://localhost:8080/"
        },
        "outputId": "aa0fa387-a26a-4d1e-dfb7-7e3de49a0ee8"
      },
      "source": [
        "from google.colab import drive\n",
        "drive.mount('/content/gdrive/')"
      ],
      "execution_count": null,
      "outputs": [
        {
          "output_type": "stream",
          "name": "stdout",
          "text": [
            "Mounted at /content/gdrive/\n"
          ]
        }
      ]
    },
    {
      "cell_type": "markdown",
      "metadata": {
        "id": "8Njk5BWjZ4K4"
      },
      "source": [
        "Les données sont maintenant dans votre environnement collab."
      ]
    },
    {
      "cell_type": "code",
      "metadata": {
        "colab": {
          "base_uri": "https://localhost:8080/"
        },
        "id": "NGebIlFrZoVR",
        "outputId": "4a0f01d1-1900-45a1-ce54-4a16e26d1847"
      },
      "source": [
        "import os\n",
        "print(os.listdir('gdrive/MyDrive/Exercice_1/Partie_1')[:10])"
      ],
      "execution_count": null,
      "outputs": [
        {
          "output_type": "stream",
          "name": "stdout",
          "text": [
            "['0a3ff2f0a147c158845afa44d2a012064896566b.story', '0a3fff5779a8f7cfdde5d284a429ab89fd5e85df.story', '0a0f56ebc5a0a67ed18de79d99b40a42d8058d04.story', '0a3ad75d92c5bc2eccf2763df86afe5ddeffed75.story', '0a3f2400ba4e5cdf4b3638ae6fb60fdfa12a2680.story', '0a3f567efff9f0748b2758c9e8c17dc66beade04.story', '0a05b14962b2e73bbff82086762e0e23d32b359f.story', '0a1ad82d161d90d758240407cb8c8fcebff4a212.story', '0a4ec4d37683347ca62b53982d2c5f4efb86f444.story', '0a4b2d4ea5fb0625e3e747525062f0a85345e4df.story']\n"
          ]
        }
      ]
    },
    {
      "cell_type": "markdown",
      "metadata": {
        "id": "rrHBJQqyeTzY"
      },
      "source": [
        "## Création de la base de données"
      ]
    },
    {
      "cell_type": "code",
      "metadata": {
        "id": "R4txkYW_aBdV"
      },
      "source": [
        "cmpt = 0\n",
        "dict_data = dict()\n",
        "\n",
        "for file_name in os.listdir('gdrive/MyDrive/Exercice_1/Partie_1'):\n",
        "    #print(file_name)\n",
        "\n",
        "    # This needs to be done *inside the loop*\n",
        "    f = open('gdrive/MyDrive/Exercice_1/Partie_1/'+file_name, 'r')\n",
        "    lst = \"\"\n",
        "    for line in f:\n",
        "       line.strip()\n",
        "       line = line.replace(\"\\n\" ,'')\n",
        "       line = line.replace(\"//\" , '')\n",
        "       line = line.replace(\"/\" , '')\n",
        "       if len(line) > 0 :\n",
        "          lst += line\n",
        "\n",
        "    dict_data[cmpt] = lst\n",
        "    cmpt += 1\n"
      ],
      "execution_count": null,
      "outputs": []
    },
    {
      "cell_type": "code",
      "metadata": {
        "colab": {
          "base_uri": "https://localhost:8080/"
        },
        "id": "da3oFcBpaRFM",
        "outputId": "1876003d-4b01-44df-de3b-93d63980e324"
      },
      "source": [
        "len(dict_data)"
      ],
      "execution_count": null,
      "outputs": [
        {
          "output_type": "execute_result",
          "data": {
            "text/plain": [
              "50"
            ]
          },
          "metadata": {},
          "execution_count": 9
        }
      ]
    },
    {
      "cell_type": "markdown",
      "metadata": {
        "id": "zblR3PUulPJH"
      },
      "source": [
        "## En minuscule"
      ]
    },
    {
      "cell_type": "code",
      "metadata": {
        "id": "F8KB3C_OlVdD"
      },
      "source": [
        "dict_data_min = dict()\n",
        "for k, v in dict_data.items():\n",
        "  dict_data_min[k] = v.lower()"
      ],
      "execution_count": null,
      "outputs": []
    },
    {
      "cell_type": "markdown",
      "metadata": {
        "id": "PnADqXpAeW5R"
      },
      "source": [
        "## Tokenization"
      ]
    },
    {
      "cell_type": "code",
      "metadata": {
        "id": "-rpbffFIdYrw"
      },
      "source": [
        "dict_data_token = dict()\n",
        "for k, v in dict_data_min.items():\n",
        "  tokenizer = nltk.RegexpTokenizer(r'\\w+')\n",
        "  tokens = tokenizer.tokenize(v)\n",
        "  dict_data_token[k] = tokens"
      ],
      "execution_count": null,
      "outputs": []
    },
    {
      "cell_type": "markdown",
      "metadata": {
        "id": "ICzt3a3ZeaPE"
      },
      "source": [
        "## Visualization du vocabulaire"
      ]
    },
    {
      "cell_type": "markdown",
      "metadata": {
        "id": "LwW0gxbpeGkv"
      },
      "source": [
        "Calcul du vocabulaire des articles."
      ]
    },
    {
      "cell_type": "code",
      "metadata": {
        "id": "7iyarBM1e1Iy"
      },
      "source": [
        "stats, freq = dict(), dict()\n",
        "\n",
        "for k, v in dict_data_token.items():\n",
        "  freq[k] = fq = nltk.FreqDist(v)\n",
        "  stats[k] = {'total': len(v)}"
      ],
      "execution_count": null,
      "outputs": []
    },
    {
      "cell_type": "markdown",
      "metadata": {
        "id": "pjnxrroBhO0Z"
      },
      "source": [
        "Visualisation du vocabulaire des articles classé par ordre décroissant."
      ]
    },
    {
      "cell_type": "code",
      "metadata": {
        "colab": {
          "base_uri": "https://localhost:8080/",
          "height": 297
        },
        "id": "ZKLvScdYfHQK",
        "outputId": "67a9662d-22b5-453f-b3a5-7965eb290f45"
      },
      "source": [
        "df = pd.DataFrame.from_dict(stats, orient='index')\n",
        "df = df.sort_values(by='total', ascending=False)\n",
        "\n",
        "df.plot(kind='bar')\n",
        "plt.ylabel('Longueur du vocabulaire')\n",
        "plt.xlabel(\"Id de l'article\")\n",
        "plt.title('Vocabulaire des articles')\n",
        "plt.show()"
      ],
      "execution_count": null,
      "outputs": [
        {
          "output_type": "display_data",
          "data": {
            "image/png": "[encoded data removed]",
            "text/plain": [
              "<Figure size 432x288 with 1 Axes>"
            ]
          },
          "metadata": {
            "tags": [],
            "needs_background": "light"
          }
        }
      ]
    },
    {
      "cell_type": "markdown",
      "metadata": {
        "id": "O5qb72hYhk6W"
      },
      "source": [
        "## Les stopwords"
      ]
    },
    {
      "cell_type": "markdown",
      "metadata": {
        "id": "VAOG5C6liK0x"
      },
      "source": [
        "Suppression des stopwords."
      ]
    },
    {
      "cell_type": "code",
      "metadata": {
        "id": "6vRS3MmQhrW6"
      },
      "source": [
        "dict_data_stop = dict()\n",
        "\n",
        "for k, v in dict_data_token.items():\n",
        "  dict_data_stop[k] = [w for w in v if not w in list(nltk.corpus.stopwords.words())]"
      ],
      "execution_count": null,
      "outputs": []
    },
    {
      "cell_type": "markdown",
      "metadata": {
        "id": "gIl52lb5iNZw"
      },
      "source": [
        "Calcul du vocabulaire des articles."
      ]
    },
    {
      "cell_type": "code",
      "metadata": {
        "id": "Wi92CANgiHD_"
      },
      "source": [
        "stats, freq = dict(), dict()\n",
        "\n",
        "for k, v in dict_data_stop.items():\n",
        "  freq[k] = fq = nltk.FreqDist(v)\n",
        "  stats[k] = {'total': len(v)}"
      ],
      "execution_count": null,
      "outputs": []
    },
    {
      "cell_type": "markdown",
      "metadata": {
        "id": "EnwurzweiQTE"
      },
      "source": [
        "Visualisation du vocabulaire des articles classé par ordre décroissant après supression des stopwords."
      ]
    },
    {
      "cell_type": "code",
      "metadata": {
        "colab": {
          "base_uri": "https://localhost:8080/",
          "height": 297
        },
        "id": "seuMb61QiHpe",
        "outputId": "bf9ed433-8644-460b-c1f5-20fa95b2afc1"
      },
      "source": [
        "df = pd.DataFrame.from_dict(stats, orient='index')\n",
        "df = df.sort_values(by='total', ascending=False)\n",
        "\n",
        "df.plot(kind='bar')\n",
        "plt.ylabel('Longueur du vocabulaire')\n",
        "plt.xlabel(\"Id de l'article\")\n",
        "plt.title('Vocabulaire des articles')\n",
        "plt.show()"
      ],
      "execution_count": null,
      "outputs": [
        {
          "output_type": "display_data",
          "data": {
            "image/png": "[encoded data removed]",
            "text/plain": [
              "<Figure size 432x288 with 1 Axes>"
            ]
          },
          "metadata": {
            "tags": [],
            "needs_background": "light"
          }
        }
      ]
    },
    {
      "cell_type": "markdown",
      "metadata": {
        "id": "R4yKIhidisOA"
      },
      "source": [
        "## Stemming"
      ]
    },
    {
      "cell_type": "code",
      "metadata": {
        "id": "GZvvb441iuIV"
      },
      "source": [
        "dict_data_stem = dict()\n",
        "st = LancasterStemmer()\n",
        "\n",
        "for k, v in dict_data_stop.items():\n",
        "  dict_data_stem[k] = [st.stem(w) for w in v ]"
      ],
      "execution_count": null,
      "outputs": []
    },
    {
      "cell_type": "code",
      "metadata": {
        "id": "e2Ckl0Sbjfyo"
      },
      "source": [
        "stats, freq = dict(), dict()\n",
        "\n",
        "for k, v in dict_data_stem.items():\n",
        "  freq[k] = fq = nltk.FreqDist(v)\n",
        "  stats[k] = {'total': len(v)}"
      ],
      "execution_count": null,
      "outputs": []
    },
    {
      "cell_type": "code",
      "metadata": {
        "colab": {
          "base_uri": "https://localhost:8080/",
          "height": 297
        },
        "id": "leC0m_pPjlWT",
        "outputId": "64892a26-dff0-48ac-8967-415a717cf9a8"
      },
      "source": [
        "df = pd.DataFrame.from_dict(stats, orient='index')\n",
        "df = df.sort_values(by='total', ascending=False)\n",
        "\n",
        "df.plot(kind='bar')\n",
        "plt.ylabel('Longueur du vocabulaire')\n",
        "plt.xlabel(\"Id de l'article\")\n",
        "plt.title('Vocabulaire des articles')\n",
        "plt.show()"
      ],
      "execution_count": null,
      "outputs": [
        {
          "output_type": "display_data",
          "data": {
            "image/png": "[encoded data removed]",
            "text/plain": [
              "<Figure size 432x288 with 1 Axes>"
            ]
          },
          "metadata": {
            "tags": [],
            "needs_background": "light"
          }
        }
      ]
    },
    {
      "cell_type": "markdown",
      "metadata": {
        "id": "WofRCuC7mOU_"
      },
      "source": [
        "## Lemmatization"
      ]
    },
    {
      "cell_type": "code",
      "metadata": {
        "id": "fM_Q_M6-mv3Y",
        "colab": {
          "base_uri": "https://localhost:8080/",
          "height": 222
        },
        "outputId": "3bbbac4f-559c-4e80-9b0f-cf8a5f13c03e"
      },
      "source": [
        "dict_data_lem = dict()\n",
        "word_lemmatizer = WordNetLemmatizer()\n",
        "\n",
        "for k, v in dict_data_stop.items():\n",
        "  dict_data_lem[k] = [word_lemmatizer.lemmatize(w) for w in v ]"
      ],
      "execution_count": null,
      "outputs": [
        {
          "output_type": "error",
          "ename": "NameError",
          "evalue": "ignored",
          "traceback": [
            "\u001b[0;31m---------------------------------------------------------------------------\u001b[0m",
            "\u001b[0;31mNameError\u001b[0m                                 Traceback (most recent call last)",
            "\u001b[0;32m<ipython-input-28-ea4b3381bd74>\u001b[0m in \u001b[0;36m<module>\u001b[0;34m()\u001b[0m\n\u001b[1;32m      2\u001b[0m \u001b[0mword_lemmatizer\u001b[0m \u001b[0;34m=\u001b[0m \u001b[0mWordNetLemmatizer\u001b[0m\u001b[0;34m(\u001b[0m\u001b[0;34m)\u001b[0m\u001b[0;34m\u001b[0m\u001b[0;34m\u001b[0m\u001b[0m\n\u001b[1;32m      3\u001b[0m \u001b[0;34m\u001b[0m\u001b[0m\n\u001b[0;32m----> 4\u001b[0;31m \u001b[0;32mfor\u001b[0m \u001b[0mk\u001b[0m\u001b[0;34m,\u001b[0m \u001b[0mv\u001b[0m \u001b[0;32min\u001b[0m \u001b[0mdict_data_stop\u001b[0m\u001b[0;34m.\u001b[0m\u001b[0mitems\u001b[0m\u001b[0;34m(\u001b[0m\u001b[0;34m)\u001b[0m\u001b[0;34m:\u001b[0m\u001b[0;34m\u001b[0m\u001b[0;34m\u001b[0m\u001b[0m\n\u001b[0m\u001b[1;32m      5\u001b[0m   \u001b[0mdict_data_lem\u001b[0m\u001b[0;34m[\u001b[0m\u001b[0mk\u001b[0m\u001b[0;34m]\u001b[0m \u001b[0;34m=\u001b[0m \u001b[0;34m[\u001b[0m\u001b[0mword_lemmatizer\u001b[0m\u001b[0;34m.\u001b[0m\u001b[0mlemmatize\u001b[0m\u001b[0;34m(\u001b[0m\u001b[0mw\u001b[0m\u001b[0;34m)\u001b[0m \u001b[0;32mfor\u001b[0m \u001b[0mw\u001b[0m \u001b[0;32min\u001b[0m \u001b[0mv\u001b[0m \u001b[0;34m]\u001b[0m\u001b[0;34m\u001b[0m\u001b[0;34m\u001b[0m\u001b[0m\n",
            "\u001b[0;31mNameError\u001b[0m: name 'dict_data_stop' is not defined"
          ]
        }
      ]
    },
    {
      "cell_type": "code",
      "metadata": {
        "id": "WvQUEpXCnF5f"
      },
      "source": [
        "stats, freq = dict(), dict()\n",
        "\n",
        "for k, v in dict_data_stem.items():\n",
        "  freq[k] = fq = nltk.FreqDist(v)\n",
        "  stats[k] = {'total': len(v)}"
      ],
      "execution_count": null,
      "outputs": []
    },
    {
      "cell_type": "code",
      "metadata": {
        "colab": {
          "base_uri": "https://localhost:8080/",
          "height": 297
        },
        "id": "w--oRix2nIRt",
        "outputId": "3bdc4ca0-07c8-4735-ff0d-b5359e0f4393"
      },
      "source": [
        "df = pd.DataFrame.from_dict(stats, orient='index')\n",
        "df = df.sort_values(by='total', ascending=False)\n",
        "\n",
        "df.plot(kind='bar')\n",
        "plt.ylabel('Longueur du vocabulaire')\n",
        "plt.xlabel(\"Id de l'article\")\n",
        "plt.title('Vocabulaire des articles')\n",
        "plt.show()"
      ],
      "execution_count": null,
      "outputs": [
        {
          "output_type": "display_data",
          "data": {
            "image/png": "[encoded data removed]",
            "text/plain": [
              "<Figure size 432x288 with 1 Axes>"
            ]
          },
          "metadata": {
            "tags": [],
            "needs_background": "light"
          }
        }
      ]
    },
    {
      "cell_type": "markdown",
      "metadata": {
        "id": "fQ7aZ0wIe07V"
      },
      "source": [
        "## Exemple d'un texte au cours de la transformation"
      ]
    },
    {
      "cell_type": "code",
      "metadata": {
        "colab": {
          "base_uri": "https://localhost:8080/"
        },
        "id": "6bMQFhbzk2uR",
        "outputId": "abe55f01-481a-41f4-82c0-1a3765b223ea"
      },
      "source": [
        "print(\"Original : \")\n",
        "print(dict_data[0][:55])\n",
        "print(\"Minuscule : \")\n",
        "print(dict_data_min[0][:55])\n",
        "print(\"Tokenization : \")\n",
        "print(dict_data_token[0][:5])\n",
        "print(\"Stopwords : \")\n",
        "print(dict_data_stop[0][:5])\n",
        "print(\"Stemming : \")\n",
        "print(dict_data_stem[0][:5])\n",
        "print(\"Lemmatization : \")\n",
        "print(dict_data_lem[0][:5])"
      ],
      "execution_count": null,
      "outputs": [
        {
          "output_type": "stream",
          "text": [
            "Original : \n",
            "LOS ANGELES, California (CNN)  -- After about 30 hours \n",
            "Minuscule : \n",
            "los angeles, california (cnn)  -- after about 30 hours \n",
            "Tokenization : \n",
            "['los', 'angeles', 'california', 'cnn', 'after']\n",
            "Stopwords : \n",
            "['angeles', 'california', 'cnn', '30', 'hours']\n",
            "Stemming : \n",
            "['angel', 'californ', 'cnn', '30', 'hour']\n",
            "Lemmatization : \n",
            "['angeles', 'california', 'cnn', '30', 'hour']\n"
          ],
          "name": "stdout"
        }
      ]
    },
    {
      "cell_type": "markdown",
      "metadata": {
        "id": "4IBUmVP2pKbu"
      },
      "source": [
        "# Partie II - Détecter le language du texte grâce au stopwords"
      ]
    },
    {
      "cell_type": "markdown",
      "metadata": {
        "id": "8sqxiGxip10r"
      },
      "source": [
        "Les stopwords sont les mots les plus utilisés dans un texte grâce à eux essayé de prédire la langue du texte.\n",
        "\n",
        "Prédire pour cinq languages :\n",
        "- Français ;\n",
        "- Anglais ;\n",
        "- Espagnol ;\n",
        "- Italien ;\n",
        "- Russe.\n",
        "\n",
        "Vous pourrez trouver de l'aide via ce [lien](https://www.nltk.org/book/ch02.html).\n"
      ]
    },
    {
      "cell_type": "markdown",
      "metadata": {
        "id": "eVR9MFaKyvhv"
      },
      "source": [
        "## Importation des données"
      ]
    },
    {
      "cell_type": "markdown",
      "metadata": {
        "id": "q87Gv3zj-cpm"
      },
      "source": [
        "Les données proviennent de ce [jeux de données](https://zenodo.org/record/841984#.X_Jb2ulKjBI)."
      ]
    },
    {
      "cell_type": "code",
      "metadata": {
        "colab": {
          "base_uri": "https://localhost:8080/"
        },
        "id": "WNiV9Sll-CrM",
        "outputId": "9466aedd-7d90-4300-f323-c3c193373c4e"
      },
      "source": [
        "x_text = pd.read_csv('gdrive/MyDrive/Exercice_1/Partie_2/x_text.csv')\n",
        "y_text = pd.read_csv('gdrive/MyDrive/Exercice_1/Partie_2/y_text.csv')\n",
        "print(x_text.shape)\n",
        "print(y_text.shape)"
      ],
      "execution_count": null,
      "outputs": [
        {
          "output_type": "stream",
          "name": "stdout",
          "text": [
            "(2500, 1)\n",
            "(2500, 1)\n"
          ]
        }
      ]
    },
    {
      "cell_type": "code",
      "metadata": {
        "colab": {
          "base_uri": "https://localhost:8080/",
          "height": 206
        },
        "id": "EiKZbvHN-yvP",
        "outputId": "ad148c43-c919-41ae-89d6-3b7c00972117"
      },
      "source": [
        "x_text.head()"
      ],
      "execution_count": null,
      "outputs": [
        {
          "output_type": "execute_result",
          "data": {
            "text/plain": [
              "                                                text\n",
              "0  16 апреля 2009 года в Шатойском районе произош...\n",
              "1  La ciudad de San Cristóbal es sede del Hospita...\n",
              "2  Les supporters de l'ASM Clermont Auvergne ont ...\n",
              "3  Anton (or Antonius) Maria Schyrleus (also Schy...\n",
              "4  Ralph Staub est un réalisateur, producteur, sc..."
            ],
            "text/html": [
              "\n",
              "  <div id=\"df-8380c307-8989-4f65-87ae-6107b2534409\" class=\"colab-df-container\">\n",
              "    <div>\n",
              "<style scoped>\n",
              "    .dataframe tbody tr th:only-of-type {\n",
              "        vertical-align: middle;\n",
              "    }\n",
              "\n",
              "    .dataframe tbody tr th {\n",
              "        vertical-align: top;\n",
              "    }\n",
              "\n",
              "    .dataframe thead th {\n",
              "        text-align: right;\n",
              "    }\n",
              "</style>\n",
              "<table border=\"1\" class=\"dataframe\">\n",
              "  <thead>\n",
              "    <tr style=\"text-align: right;\">\n",
              "      <th></th>\n",
              "      <th>text</th>\n",
              "    </tr>\n",
              "  </thead>\n",
              "  <tbody>\n",
              "    <tr>\n",
              "      <th>0</th>\n",
              "      <td>16 апреля 2009 года в Шатойском районе произош...</td>\n",
              "    </tr>\n",
              "    <tr>\n",
              "      <th>1</th>\n",
              "      <td>La ciudad de San Cristóbal es sede del Hospita...</td>\n",
              "    </tr>\n",
              "    <tr>\n",
              "      <th>2</th>\n",
              "      <td>Les supporters de l'ASM Clermont Auvergne ont ...</td>\n",
              "    </tr>\n",
              "    <tr>\n",
              "      <th>3</th>\n",
              "      <td>Anton (or Antonius) Maria Schyrleus (also Schy...</td>\n",
              "    </tr>\n",
              "    <tr>\n",
              "      <th>4</th>\n",
              "      <td>Ralph Staub est un réalisateur, producteur, sc...</td>\n",
              "    </tr>\n",
              "  </tbody>\n",
              "</table>\n",
              "</div>\n",
              "    <div class=\"colab-df-buttons\">\n",
              "\n",
              "  <div class=\"colab-df-container\">\n",
              "    <button class=\"colab-df-convert\" onclick=\"convertToInteractive('df-8380c307-8989-4f65-87ae-6107b2534409')\"\n",
              "            title=\"Convert this dataframe to an interactive table.\"\n",
              "            style=\"display:none;\">\n",
              "\n",
              "  <svg xmlns=\"http://www.w3.org/2000/svg\" height=\"24px\" viewBox=\"0 -960 960 960\">\n",
              "    <path d=\"M120-120v-720h720v720H120Zm60-500h600v-160H180v160Zm220 220h160v-160H400v160Zm0 220h160v-160H400v160ZM180-400h160v-160H180v160Zm440 0h160v-160H620v160ZM180-180h160v-160H180v160Zm440 0h160v-160H620v160Z\"/>\n",
              "  </svg>\n",
              "    </button>\n",
              "\n",
              "  <style>\n",
              "    .colab-df-container {\n",
              "      display:flex;\n",
              "      gap: 12px;\n",
              "    }\n",
              "\n",
              "    .colab-df-convert {\n",
              "      background-color: #E8F0FE;\n",
              "      border: none;\n",
              "      border-radius: 50%;\n",
              "      cursor: pointer;\n",
              "      display: none;\n",
              "      fill: #1967D2;\n",
              "      height: 32px;\n",
              "      padding: 0 0 0 0;\n",
              "      width: 32px;\n",
              "    }\n",
              "\n",
              "    .colab-df-convert:hover {\n",
              "      background-color: #E2EBFA;\n",
              "      box-shadow: 0px 1px 2px rgba(60, 64, 67, 0.3), 0px 1px 3px 1px rgba(60, 64, 67, 0.15);\n",
              "      fill: #174EA6;\n",
              "    }\n",
              "\n",
              "    .colab-df-buttons div {\n",
              "      margin-bottom: 4px;\n",
              "    }\n",
              "\n",
              "    [theme=dark] .colab-df-convert {\n",
              "      background-color: #3B4455;\n",
              "      fill: #D2E3FC;\n",
              "    }\n",
              "\n",
              "    [theme=dark] .colab-df-convert:hover {\n",
              "      background-color: #434B5C;\n",
              "      box-shadow: 0px 1px 3px 1px rgba(0, 0, 0, 0.15);\n",
              "      filter: drop-shadow(0px 1px 2px rgba(0, 0, 0, 0.3));\n",
              "      fill: #FFFFFF;\n",
              "    }\n",
              "  </style>\n",
              "\n",
              "    <script>\n",
              "      const buttonEl =\n",
              "        document.querySelector('#df-8380c307-8989-4f65-87ae-6107b2534409 button.colab-df-convert');\n",
              "      buttonEl.style.display =\n",
              "        google.colab.kernel.accessAllowed ? 'block' : 'none';\n",
              "\n",
              "      async function convertToInteractive(key) {\n",
              "        const element = document.querySelector('#df-8380c307-8989-4f65-87ae-6107b2534409');\n",
              "        const dataTable =\n",
              "          await google.colab.kernel.invokeFunction('convertToInteractive',\n",
              "                                                    [key], {});\n",
              "        if (!dataTable) return;\n",
              "\n",
              "        const docLinkHtml = 'Like what you see? Visit the ' +\n",
              "          '<a target=\"_blank\" href=https://colab.research.google.com/notebooks/data_table.ipynb>data table notebook</a>'\n",
              "          + ' to learn more about interactive tables.';\n",
              "        element.innerHTML = '';\n",
              "        dataTable['output_type'] = 'display_data';\n",
              "        await google.colab.output.renderOutput(dataTable, element);\n",
              "        const docLink = document.createElement('div');\n",
              "        docLink.innerHTML = docLinkHtml;\n",
              "        element.appendChild(docLink);\n",
              "      }\n",
              "    </script>\n",
              "  </div>\n",
              "\n",
              "\n",
              "<div id=\"df-23625119-9af2-4e63-be2b-5d158a55aabb\">\n",
              "  <button class=\"colab-df-quickchart\" onclick=\"quickchart('df-23625119-9af2-4e63-be2b-5d158a55aabb')\"\n",
              "            title=\"Suggest charts\"\n",
              "            style=\"display:none;\">\n",
              "\n",
              "<svg xmlns=\"http://www.w3.org/2000/svg\" height=\"24px\"viewBox=\"0 0 24 24\"\n",
              "     width=\"24px\">\n",
              "    <g>\n",
              "        <path d=\"M19 3H5c-1.1 0-2 .9-2 2v14c0 1.1.9 2 2 2h14c1.1 0 2-.9 2-2V5c0-1.1-.9-2-2-2zM9 17H7v-7h2v7zm4 0h-2V7h2v10zm4 0h-2v-4h2v4z\"/>\n",
              "    </g>\n",
              "</svg>\n",
              "  </button>\n",
              "\n",
              "<style>\n",
              "  .colab-df-quickchart {\n",
              "      --bg-color: #E8F0FE;\n",
              "      --fill-color: #1967D2;\n",
              "      --hover-bg-color: #E2EBFA;\n",
              "      --hover-fill-color: #174EA6;\n",
              "      --disabled-fill-color: #AAA;\n",
              "      --disabled-bg-color: #DDD;\n",
              "  }\n",
              "\n",
              "  [theme=dark] .colab-df-quickchart {\n",
              "      --bg-color: #3B4455;\n",
              "      --fill-color: #D2E3FC;\n",
              "      --hover-bg-color: #434B5C;\n",
              "      --hover-fill-color: #FFFFFF;\n",
              "      --disabled-bg-color: #3B4455;\n",
              "      --disabled-fill-color: #666;\n",
              "  }\n",
              "\n",
              "  .colab-df-quickchart {\n",
              "    background-color: var(--bg-color);\n",
              "    border: none;\n",
              "    border-radius: 50%;\n",
              "    cursor: pointer;\n",
              "    display: none;\n",
              "    fill: var(--fill-color);\n",
              "    height: 32px;\n",
              "    padding: 0;\n",
              "    width: 32px;\n",
              "  }\n",
              "\n",
              "  .colab-df-quickchart:hover {\n",
              "    background-color: var(--hover-bg-color);\n",
              "    box-shadow: 0 1px 2px rgba(60, 64, 67, 0.3), 0 1px 3px 1px rgba(60, 64, 67, 0.15);\n",
              "    fill: var(--button-hover-fill-color);\n",
              "  }\n",
              "\n",
              "  .colab-df-quickchart-complete:disabled,\n",
              "  .colab-df-quickchart-complete:disabled:hover {\n",
              "    background-color: var(--disabled-bg-color);\n",
              "    fill: var(--disabled-fill-color);\n",
              "    box-shadow: none;\n",
              "  }\n",
              "\n",
              "  .colab-df-spinner {\n",
              "    border: 2px solid var(--fill-color);\n",
              "    border-color: transparent;\n",
              "    border-bottom-color: var(--fill-color);\n",
              "    animation:\n",
              "      spin 1s steps(1) infinite;\n",
              "  }\n",
              "\n",
              "  @keyframes spin {\n",
              "    0% {\n",
              "      border-color: transparent;\n",
              "      border-bottom-color: var(--fill-color);\n",
              "      border-left-color: var(--fill-color);\n",
              "    }\n",
              "    20% {\n",
              "      border-color: transparent;\n",
              "      border-left-color: var(--fill-color);\n",
              "      border-top-color: var(--fill-color);\n",
              "    }\n",
              "    30% {\n",
              "      border-color: transparent;\n",
              "      border-left-color: var(--fill-color);\n",
              "      border-top-color: var(--fill-color);\n",
              "      border-right-color: var(--fill-color);\n",
              "    }\n",
              "    40% {\n",
              "      border-color: transparent;\n",
              "      border-right-color: var(--fill-color);\n",
              "      border-top-color: var(--fill-color);\n",
              "    }\n",
              "    60% {\n",
              "      border-color: transparent;\n",
              "      border-right-color: var(--fill-color);\n",
              "    }\n",
              "    80% {\n",
              "      border-color: transparent;\n",
              "      border-right-color: var(--fill-color);\n",
              "      border-bottom-color: var(--fill-color);\n",
              "    }\n",
              "    90% {\n",
              "      border-color: transparent;\n",
              "      border-bottom-color: var(--fill-color);\n",
              "    }\n",
              "  }\n",
              "</style>\n",
              "\n",
              "  <script>\n",
              "    async function quickchart(key) {\n",
              "      const quickchartButtonEl =\n",
              "        document.querySelector('#' + key + ' button');\n",
              "      quickchartButtonEl.disabled = true;  // To prevent multiple clicks.\n",
              "      quickchartButtonEl.classList.add('colab-df-spinner');\n",
              "      try {\n",
              "        const charts = await google.colab.kernel.invokeFunction(\n",
              "            'suggestCharts', [key], {});\n",
              "      } catch (error) {\n",
              "        console.error('Error during call to suggestCharts:', error);\n",
              "      }\n",
              "      quickchartButtonEl.classList.remove('colab-df-spinner');\n",
              "      quickchartButtonEl.classList.add('colab-df-quickchart-complete');\n",
              "    }\n",
              "    (() => {\n",
              "      let quickchartButtonEl =\n",
              "        document.querySelector('#df-23625119-9af2-4e63-be2b-5d158a55aabb button');\n",
              "      quickchartButtonEl.style.display =\n",
              "        google.colab.kernel.accessAllowed ? 'block' : 'none';\n",
              "    })();\n",
              "  </script>\n",
              "</div>\n",
              "    </div>\n",
              "  </div>\n"
            ]
          },
          "metadata": {},
          "execution_count": 5
        }
      ]
    },
    {
      "cell_type": "code",
      "metadata": {
        "colab": {
          "base_uri": "https://localhost:8080/"
        },
        "id": "qu0hSDfD-1K-",
        "outputId": "a27f9231-970e-47b5-b047-28ab53a3cec5"
      },
      "source": [
        "lang = np.unique(y_text)\n",
        "print(lang)"
      ],
      "execution_count": null,
      "outputs": [
        {
          "output_type": "stream",
          "name": "stdout",
          "text": [
            "['english' 'french' 'italian' 'russian' 'spanish']\n"
          ]
        }
      ]
    },
    {
      "cell_type": "markdown",
      "metadata": {
        "id": "v16Dd1VFzLNf"
      },
      "source": [
        "## Les stopwords"
      ]
    },
    {
      "cell_type": "markdown",
      "metadata": {
        "id": "WqYnAwF7r3GR"
      },
      "source": [
        "Vous pouvez voir ci-dessous les différentes langues pour lesquels nltk à des stopwords."
      ]
    },
    {
      "cell_type": "code",
      "metadata": {
        "colab": {
          "base_uri": "https://localhost:8080/"
        },
        "id": "kxb884V5nz6D",
        "outputId": "006478e1-fa7d-49d8-cb36-ac6bdb80e1b6"
      },
      "source": [
        "nltk.corpus.stopwords.fileids()"
      ],
      "execution_count": null,
      "outputs": [
        {
          "output_type": "execute_result",
          "data": {
            "text/plain": [
              "['arabic',\n",
              " 'azerbaijani',\n",
              " 'basque',\n",
              " 'bengali',\n",
              " 'catalan',\n",
              " 'chinese',\n",
              " 'danish',\n",
              " 'dutch',\n",
              " 'english',\n",
              " 'finnish',\n",
              " 'french',\n",
              " 'german',\n",
              " 'greek',\n",
              " 'hebrew',\n",
              " 'hinglish',\n",
              " 'hungarian',\n",
              " 'indonesian',\n",
              " 'italian',\n",
              " 'kazakh',\n",
              " 'nepali',\n",
              " 'norwegian',\n",
              " 'portuguese',\n",
              " 'romanian',\n",
              " 'russian',\n",
              " 'slovene',\n",
              " 'spanish',\n",
              " 'swedish',\n",
              " 'tajik',\n",
              " 'turkish']"
            ]
          },
          "metadata": {},
          "execution_count": 7
        }
      ]
    },
    {
      "cell_type": "markdown",
      "metadata": {
        "id": "jz8cXLSRs89l"
      },
      "source": [
        "Visualisation des stopwords pour quelques unes des langues."
      ]
    },
    {
      "cell_type": "code",
      "metadata": {
        "colab": {
          "base_uri": "https://localhost:8080/"
        },
        "id": "dwjkbQKmsmnd",
        "outputId": "ee54b131-e6ed-4f3d-953e-6fce1ebfac40"
      },
      "source": [
        "nltk.corpus.stopwords.words('russian')[:10]"
      ],
      "execution_count": null,
      "outputs": [
        {
          "output_type": "execute_result",
          "data": {
            "text/plain": [
              "['и', 'в', 'во', 'не', 'что', 'он', 'на', 'я', 'с', 'со']"
            ]
          },
          "metadata": {},
          "execution_count": 8
        }
      ]
    },
    {
      "cell_type": "code",
      "metadata": {
        "colab": {
          "base_uri": "https://localhost:8080/"
        },
        "id": "Pt1Sk2ffsXBZ",
        "outputId": "5226e84d-b3ea-4e38-9a6b-02a7131c3667"
      },
      "source": [
        "nltk.corpus.stopwords.words('norwegian')[:10]"
      ],
      "execution_count": null,
      "outputs": [
        {
          "output_type": "execute_result",
          "data": {
            "text/plain": [
              "['og', 'i', 'jeg', 'det', 'at', 'en', 'et', 'den', 'til', 'er']"
            ]
          },
          "metadata": {},
          "execution_count": 9
        }
      ]
    },
    {
      "cell_type": "code",
      "metadata": {
        "colab": {
          "base_uri": "https://localhost:8080/"
        },
        "id": "bwWLU2TissxA",
        "outputId": "07255ca0-3252-4a12-f55d-a401eb154649"
      },
      "source": [
        "nltk.corpus.stopwords.words('tajik')[:10]"
      ],
      "execution_count": null,
      "outputs": [
        {
          "output_type": "execute_result",
          "data": {
            "text/plain": [
              "['аз', 'дар', 'ба', 'бо', 'барои', 'бе', 'то', 'ҷуз', 'пеши', 'назди']"
            ]
          },
          "metadata": {},
          "execution_count": 10
        }
      ]
    },
    {
      "cell_type": "code",
      "metadata": {
        "colab": {
          "base_uri": "https://localhost:8080/"
        },
        "id": "jHRoTp_Hsvxf",
        "outputId": "defbcfe6-4d18-4160-ed33-1e5af2853a6b"
      },
      "source": [
        "nltk.corpus.stopwords.words('arabic')[:10]"
      ],
      "execution_count": null,
      "outputs": [
        {
          "output_type": "execute_result",
          "data": {
            "text/plain": [
              "['إذ', 'إذا', 'إذما', 'إذن', 'أف', 'أقل', 'أكثر', 'ألا', 'إلا', 'التي']"
            ]
          },
          "metadata": {},
          "execution_count": 11
        }
      ]
    },
    {
      "cell_type": "markdown",
      "metadata": {
        "id": "fyXgzCUm_fhS"
      },
      "source": [
        "## Comparaison des mots"
      ]
    },
    {
      "cell_type": "code",
      "metadata": {
        "id": "__cQJzKcEXR8"
      },
      "source": [
        "y_pred = list()\n",
        "\n",
        "for line in x_text.iterrows() :\n",
        "  language_ratios = {}\n",
        "\n",
        "  tokenizer = nltk.RegexpTokenizer(r'\\w+')\n",
        "  tokens = tokenizer.tokenize(line[1]['text'])\n",
        "  test_words = [word.lower() for word in tokens]\n",
        "  test_words_set = set(test_words)\n",
        "\n",
        "  for language in lang:\n",
        "    stopwords_set = set(nltk.corpus.stopwords.words(language))\n",
        "    common_elements = test_words_set.intersection(stopwords_set)\n",
        "    language_ratios[language] = len(common_elements)\n",
        "\n",
        "  y_pred.append(lang[np.argmax(np.fromiter(language_ratios.values(), dtype=float))])"
      ],
      "execution_count": null,
      "outputs": []
    },
    {
      "cell_type": "code",
      "metadata": {
        "colab": {
          "base_uri": "https://localhost:8080/"
        },
        "id": "esVa081JF279",
        "outputId": "8e17bc23-f7ab-48f2-c46f-6da232f5c516"
      },
      "source": [
        "accuracy = 0\n",
        "for y_1, y_2 in zip(y_pred, y_text['label']) :\n",
        "\n",
        "  if y_1 == y_2 :\n",
        "    accuracy += 1\n",
        "accuracy /= len(y_pred)\n",
        "print(accuracy*100)"
      ],
      "execution_count": null,
      "outputs": [
        {
          "output_type": "stream",
          "text": [
            "98.04\n"
          ],
          "name": "stdout"
        }
      ]
    }
  ]
}